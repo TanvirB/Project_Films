{
 "cells": [
  {
   "cell_type": "code",
   "execution_count": 1,
   "metadata": {},
   "outputs": [],
   "source": [
    "%matplotlib inline\n",
    "import warnings\n",
    "warnings.filterwarnings(\"ignore\")\n",
    "\n",
    "from matplotlib import pyplot as plt\n",
    "import matplotlib.mlab as mlab\n",
    "import numpy as np\n",
    "import scipy.stats as stats\n",
    "import pandas as pd"
   ]
  },
  {
   "cell_type": "code",
   "execution_count": 2,
   "metadata": {},
   "outputs": [
    {
     "data": {
      "text/html": [
       "<div>\n",
       "<style scoped>\n",
       "    .dataframe tbody tr th:only-of-type {\n",
       "        vertical-align: middle;\n",
       "    }\n",
       "\n",
       "    .dataframe tbody tr th {\n",
       "        vertical-align: top;\n",
       "    }\n",
       "\n",
       "    .dataframe thead th {\n",
       "        text-align: right;\n",
       "    }\n",
       "</style>\n",
       "<table border=\"1\" class=\"dataframe\">\n",
       "  <thead>\n",
       "    <tr style=\"text-align: right;\">\n",
       "      <th></th>\n",
       "      <th>Metascore</th>\n",
       "      <th>Box Office</th>\n",
       "    </tr>\n",
       "  </thead>\n",
       "  <tbody>\n",
       "    <tr>\n",
       "      <th>1</th>\n",
       "      <td>53.0</td>\n",
       "      <td>$183,277,573</td>\n",
       "    </tr>\n",
       "    <tr>\n",
       "      <th>4</th>\n",
       "      <td>87.0</td>\n",
       "      <td>$2,925,880</td>\n",
       "    </tr>\n",
       "    <tr>\n",
       "      <th>8</th>\n",
       "      <td>68.0</td>\n",
       "      <td>$45,299,680</td>\n",
       "    </tr>\n",
       "    <tr>\n",
       "      <th>9</th>\n",
       "      <td>83.0</td>\n",
       "      <td>$94,240,635</td>\n",
       "    </tr>\n",
       "    <tr>\n",
       "      <th>16</th>\n",
       "      <td>51.0</td>\n",
       "      <td>$431,000,000</td>\n",
       "    </tr>\n",
       "    <tr>\n",
       "      <th>18</th>\n",
       "      <td>64.0</td>\n",
       "      <td>$156,164,829</td>\n",
       "    </tr>\n",
       "    <tr>\n",
       "      <th>19</th>\n",
       "      <td>64.0</td>\n",
       "      <td>$317,557,891</td>\n",
       "    </tr>\n",
       "    <tr>\n",
       "      <th>20</th>\n",
       "      <td>92.0</td>\n",
       "      <td>$314,000,000</td>\n",
       "    </tr>\n",
       "    <tr>\n",
       "      <th>21</th>\n",
       "      <td>87.0</td>\n",
       "      <td>$339,700,000</td>\n",
       "    </tr>\n",
       "    <tr>\n",
       "      <th>22</th>\n",
       "      <td>48.0</td>\n",
       "      <td>$141,134,092</td>\n",
       "    </tr>\n",
       "  </tbody>\n",
       "</table>\n",
       "</div>"
      ],
      "text/plain": [
       "    Metascore    Box Office\n",
       "1        53.0  $183,277,573\n",
       "4        87.0    $2,925,880\n",
       "8        68.0   $45,299,680\n",
       "9        83.0   $94,240,635\n",
       "16       51.0  $431,000,000\n",
       "18       64.0  $156,164,829\n",
       "19       64.0  $317,557,891\n",
       "20       92.0  $314,000,000\n",
       "21       87.0  $339,700,000\n",
       "22       48.0  $141,134,092"
      ]
     },
     "execution_count": 2,
     "metadata": {},
     "output_type": "execute_result"
    }
   ],
   "source": [
    "movie = pd.read_csv(\"../Resources/US_movies_cleanup.csv\")\n",
    "#drop un-needed columns\n",
    "movie_meta1 = movie.drop(columns=[\"Unnamed: 0\",\"Title\",\"Runtime (mins)\",\"Year\",\"Release Date\",\"Num Votes\",\n",
    "                                 \"Rotten Tomatoes Rating\",\"IMDb Rating\",\"Genre\",\"Rated\",\"Production\",\n",
    "                                 \"Director\",\"Actor\"], axis=1)\n",
    "\n",
    "#drop rows with no values\n",
    "rating_meta = movie_meta1.dropna()\n",
    "rating_meta.head(10)"
   ]
  },
  {
   "cell_type": "code",
   "execution_count": 3,
   "metadata": {},
   "outputs": [
    {
     "data": {
      "text/plain": [
       "4       2925880.0\n",
       "9      94240635.0\n",
       "20    314000000.0\n",
       "21    339700000.0\n",
       "23    380529370.0\n",
       "24    364000000.0\n",
       "29    204100000.0\n",
       "30    132300000.0\n",
       "33    167007184.0\n",
       "35    533316061.0\n",
       "Name: Box Office, dtype: float64"
      ]
     },
     "execution_count": 3,
     "metadata": {},
     "output_type": "execute_result"
    }
   ],
   "source": [
    "#create Metacritic data frame of \"Good\" movies\n",
    "meta_good = rating_meta[(rating_meta[\"Metascore\"]>=70)]\n",
    "#meta_good.head(10)\n",
    "meta_goodbox = meta_good.drop([\"Metascore\"], axis=1)\n",
    "#meta_goodbox.head(10)\n",
    "\n",
    "#remove currency symboal and convert box-office to float\n",
    "clean_metagood = meta_goodbox[\"Box Office\"].replace('[\\$,]', '', regex=True).astype(float)\n",
    "clean_metagood.head(10)"
   ]
  },
  {
   "cell_type": "code",
   "execution_count": 4,
   "metadata": {},
   "outputs": [
    {
     "data": {
      "text/plain": [
       "1     183277573.0\n",
       "8      45299680.0\n",
       "16    431000000.0\n",
       "18    156164829.0\n",
       "19    317557891.0\n",
       "22    141134092.0\n",
       "25     84136909.0\n",
       "26     85974306.0\n",
       "31     53100000.0\n",
       "32     70500000.0\n",
       "Name: Box Office, dtype: float64"
      ]
     },
     "execution_count": 4,
     "metadata": {},
     "output_type": "execute_result"
    }
   ],
   "source": [
    "#create Metacritic data frame of \"Not Good\" movies\n",
    "meta_notgood = rating_meta[(rating_meta[\"Metascore\"]<70)]\n",
    "#meta_notgood.head()\n",
    "meta_badbox = meta_notgood.drop([\"Metascore\"], axis=1)\n",
    "meta_badbox.head(10)\n",
    "\n",
    "clean_metabad = meta_badbox[\"Box Office\"].replace('[\\$,]', '', regex=True).astype(float)\n",
    "clean_metabad.head(10)"
   ]
  },
  {
   "cell_type": "code",
   "execution_count": 5,
   "metadata": {},
   "outputs": [
    {
     "name": "stdout",
     "output_type": "stream",
     "text": [
      "66744160.12692308\n",
      "44066734.20817036\n",
      "t-statistics is 4.525367237287527.\n",
      "p-value is 7.281365714175035e-06.\n"
     ]
    }
   ],
   "source": [
    "#compare the 2 groups T-test\n",
    "\n",
    "(t_stat, p) = stats.ttest_ind(clean_metagood, clean_metabad, equal_var=False)\n",
    "\n",
    "print(clean_metagood.mean())\n",
    "print(clean_metabad.mean())\n",
    "\n",
    "print(\"t-statistics is {}.\".format(t_stat))\n",
    "print(\"p-value is {}.\".format(p))"
   ]
  },
  {
   "cell_type": "code",
   "execution_count": 6,
   "metadata": {},
   "outputs": [
    {
     "data": {
      "image/png": "[encoded data removed]",
      "text/plain": [
       "<Figure size 432x288 with 1 Axes>"
      ]
     },
     "metadata": {
      "needs_background": "light"
     },
     "output_type": "display_data"
    }
   ],
   "source": [
    "# Plot sample means with error bars\n",
    "tick_labels = [\"Good Movies\", \"Not Good Movies\"]\n",
    "\n",
    "means = [clean_metagood.mean(), clean_metabad.mean()]\n",
    "x_axis = np.arange(0, len(means))\n",
    "\n",
    "sem = [clean_metagood.sem(), clean_metabad.sem()]\n",
    "\n",
    "# Plot mean height of players\n",
    "fig, ax = plt.subplots()\n",
    "\n",
    "fig.suptitle(\"Metascore vs Box Office\",\n",
    "             fontsize=12, fontweight=\"bold\")\n",
    "\n",
    "ax.errorbar(x_axis, means, yerr=sem, fmt=\"o\")\n",
    "\n",
    "ax.set_xlim(-0.5, 1.5)\n",
    "ax.set_ylim(0, 100000000)\n",
    "\n",
    "ax.set_xticklabels(tick_labels)\n",
    "ax.set_xticks([0, 1])\n",
    "\n",
    "ax.set_ylabel(\"Box Office - out of Billion\")\n",
    "\n",
    "plt.show()"
   ]
  },
  {
   "cell_type": "code",
   "execution_count": 12,
   "metadata": {
    "scrolled": false
   },
   "outputs": [
    {
     "data": {
      "image/png": "[encoded data removed]",
      "text/plain": [
       "<Figure size 720x576 with 1 Axes>"
      ]
     },
     "metadata": {
      "needs_background": "light"
     },
     "output_type": "display_data"
    }
   ],
   "source": [
    "fig, ax = plt.subplots(figsize=(10, 8))\n",
    "\n",
    "\n",
    "boxoffice_mean = [66744160, 44066734]\n",
    "x_axis = np.arange(len(boxoffice_mean))\n",
    "sem = [clean_metagood.sem(), clean_metabad.sem()]\n",
    "ax.errorbar(x_axis, means, yerr=sem, fmt=\"o\")\n",
    "\n",
    "# plt.bar(x_axis, boxoffice_mean, color='g', alpha=0.8, align=\"center\")\n",
    "\n",
    "# Tell matplotlib where we would like to place each of our x axis headers\n",
    "tick_locations = [value for value in x_axis]\n",
    "plt.xticks(tick_locations, [\"Good Movies\", \"Not Good Movies\"], size=15, weight=\"bold\")\n",
    "\n",
    "# Sets the x limits of the current chart\n",
    "plt.xlim(-0.75, len(x_axis)-0.25)\n",
    "\n",
    "# Sets the y limits of the current chart\n",
    "plt.ylim(0, max(boxoffice_mean)+10000000)\n",
    "\n",
    "# Give our chart some labels and a tile\n",
    "plt.title(\"Metascore vs Box Office\",size=15, weight=\"bold\")\n",
    "plt.ylabel(\"Box Office \", size=15, weight=\"bold\")\n",
    "\n",
    "plt.tick_params(axis='both', which='major', labelsize=15)\n",
    "\n",
    "plt.tight_layout()\n",
    "plt.savefig(\"../Figures/Metascore_BoxOffice.png\")\n",
    "plt.show()"
   ]
  },
  {
   "cell_type": "code",
   "execution_count": null,
   "metadata": {},
   "outputs": [],
   "source": []
  }
 ],
 "metadata": {
  "kernelspec": {
   "display_name": "Python 3",
   "language": "python",
   "name": "python3"
  },
  "language_info": {
   "codemirror_mode": {
    "name": "ipython",
    "version": 3
   },
   "file_extension": ".py",
   "mimetype": "text/x-python",
   "name": "python",
   "nbconvert_exporter": "python",
   "pygments_lexer": "ipython3",
   "version": "3.7.3"
  }
 },
 "nbformat": 4,
 "nbformat_minor": 2
}
