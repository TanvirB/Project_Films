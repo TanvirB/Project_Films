{
 "cells": [
  {
   "cell_type": "code",
   "execution_count": 1,
   "metadata": {},
   "outputs": [],
   "source": [
    "%matplotlib inline\n",
    "import warnings\n",
    "warnings.filterwarnings(\"ignore\")\n",
    "\n",
    "from matplotlib import pyplot as plt\n",
    "import matplotlib.mlab as mlab\n",
    "import numpy as np\n",
    "import scipy.stats as stats\n",
    "import pandas as pd"
   ]
  },
  {
   "cell_type": "code",
   "execution_count": 2,
   "metadata": {},
   "outputs": [
    {
     "data": {
      "text/html": [
       "<div>\n",
       "<style scoped>\n",
       "    .dataframe tbody tr th:only-of-type {\n",
       "        vertical-align: middle;\n",
       "    }\n",
       "\n",
       "    .dataframe tbody tr th {\n",
       "        vertical-align: top;\n",
       "    }\n",
       "\n",
       "    .dataframe thead th {\n",
       "        text-align: right;\n",
       "    }\n",
       "</style>\n",
       "<table border=\"1\" class=\"dataframe\">\n",
       "  <thead>\n",
       "    <tr style=\"text-align: right;\">\n",
       "      <th></th>\n",
       "      <th>IMDb Rating</th>\n",
       "      <th>Box Office</th>\n",
       "    </tr>\n",
       "  </thead>\n",
       "  <tbody>\n",
       "    <tr>\n",
       "      <th>1</th>\n",
       "      <td>6.6</td>\n",
       "      <td>$183,277,573</td>\n",
       "    </tr>\n",
       "    <tr>\n",
       "      <th>4</th>\n",
       "      <td>8.5</td>\n",
       "      <td>$2,925,880</td>\n",
       "    </tr>\n",
       "    <tr>\n",
       "      <th>8</th>\n",
       "      <td>8.1</td>\n",
       "      <td>$45,299,680</td>\n",
       "    </tr>\n",
       "    <tr>\n",
       "      <th>9</th>\n",
       "      <td>8.5</td>\n",
       "      <td>$94,240,635</td>\n",
       "    </tr>\n",
       "    <tr>\n",
       "      <th>16</th>\n",
       "      <td>6.5</td>\n",
       "      <td>$431,000,000</td>\n",
       "    </tr>\n",
       "    <tr>\n",
       "      <th>18</th>\n",
       "      <td>7.4</td>\n",
       "      <td>$156,164,829</td>\n",
       "    </tr>\n",
       "    <tr>\n",
       "      <th>19</th>\n",
       "      <td>7.6</td>\n",
       "      <td>$317,557,891</td>\n",
       "    </tr>\n",
       "    <tr>\n",
       "      <th>20</th>\n",
       "      <td>8.8</td>\n",
       "      <td>$314,000,000</td>\n",
       "    </tr>\n",
       "    <tr>\n",
       "      <th>21</th>\n",
       "      <td>8.7</td>\n",
       "      <td>$339,700,000</td>\n",
       "    </tr>\n",
       "    <tr>\n",
       "      <th>22</th>\n",
       "      <td>5.9</td>\n",
       "      <td>$141,134,092</td>\n",
       "    </tr>\n",
       "  </tbody>\n",
       "</table>\n",
       "</div>"
      ],
      "text/plain": [
       "    IMDb Rating    Box Office\n",
       "1           6.6  $183,277,573\n",
       "4           8.5    $2,925,880\n",
       "8           8.1   $45,299,680\n",
       "9           8.5   $94,240,635\n",
       "16          6.5  $431,000,000\n",
       "18          7.4  $156,164,829\n",
       "19          7.6  $317,557,891\n",
       "20          8.8  $314,000,000\n",
       "21          8.7  $339,700,000\n",
       "22          5.9  $141,134,092"
      ]
     },
     "execution_count": 2,
     "metadata": {},
     "output_type": "execute_result"
    }
   ],
   "source": [
    "movie = pd.read_csv(\"../Resources/US_movies_cleanup.csv\")\n",
    "#drop un-needed columns\n",
    "movie_imdb1 = movie.drop(columns=[\"Unnamed: 0\",\"Title\",\"Runtime (mins)\",\"Year\",\"Release Date\",\"Num Votes\",\n",
    "                                 \"Rotten Tomatoes Rating\",\"Metascore\",\"Genre\",\"Rated\",\"Production\",\n",
    "                                 \"Director\",\"Actor\"], axis=1)\n",
    "\n",
    "\n",
    "#drop rows with no values\n",
    "rating_imdb = movie_imdb1.dropna()\n",
    "rating_imdb.head(10)"
   ]
  },
  {
   "cell_type": "code",
   "execution_count": 3,
   "metadata": {},
   "outputs": [
    {
     "data": {
      "text/plain": [
       "4       2925880.0\n",
       "8      45299680.0\n",
       "9      94240635.0\n",
       "18    156164829.0\n",
       "19    317557891.0\n",
       "20    314000000.0\n",
       "21    339700000.0\n",
       "23    380529370.0\n",
       "24    364000000.0\n",
       "25     84136909.0\n",
       "Name: Box Office, dtype: float64"
      ]
     },
     "execution_count": 3,
     "metadata": {},
     "output_type": "execute_result"
    }
   ],
   "source": [
    "#create IMDB data frame of \"Good\" movies\n",
    "imdb_good = rating_imdb[(rating_imdb[\"IMDb Rating\"]>=7)]\n",
    "imdb_goodbox = imdb_good.drop([\"IMDb Rating\"], axis=1)\n",
    "\n",
    "#remove currency symboal and convert box-office to float\n",
    "clean_imdbgood = imdb_goodbox[\"Box Office\"].replace('[\\$,]', '', regex=True).astype(float)\n",
    "clean_imdbgood.head(10)"
   ]
  },
  {
   "cell_type": "code",
   "execution_count": 4,
   "metadata": {},
   "outputs": [
    {
     "data": {
      "text/plain": [
       "1     183277573.0\n",
       "16    431000000.0\n",
       "22    141134092.0\n",
       "37    168400000.0\n",
       "39    150167630.0\n",
       "45    179737340.0\n",
       "47    166112167.0\n",
       "50    162001186.0\n",
       "57    172051787.0\n",
       "63    241063875.0\n",
       "Name: Box Office, dtype: float64"
      ]
     },
     "execution_count": 4,
     "metadata": {},
     "output_type": "execute_result"
    }
   ],
   "source": [
    "#create IMDB data frame of \"Not Good\" movies\n",
    "imdb_notgood = rating_imdb[(rating_imdb[\"IMDb Rating\"]<7)]\n",
    "imdb_badbox = imdb_notgood.drop([\"IMDb Rating\"], axis=1)\n",
    "#imdb_badbox.head(10)\n",
    "\n",
    "clean_imdbbad = imdb_badbox[\"Box Office\"].replace('[\\$,]', '', regex=True).astype(float)\n",
    "clean_imdbbad.head(10)"
   ]
  },
  {
   "cell_type": "code",
   "execution_count": 5,
   "metadata": {},
   "outputs": [
    {
     "name": "stdout",
     "output_type": "stream",
     "text": [
      "66216786.460299194\n",
      "39271056.88639761\n",
      "t-statistics is 7.198554674634999.\n",
      "p-value is 1.1480185333936805e-12.\n"
     ]
    }
   ],
   "source": [
    "#compare the 2 groups T-test\n",
    "\n",
    "(t_stat, p) = stats.ttest_ind(clean_imdbgood, clean_imdbbad, equal_var=False)\n",
    "\n",
    "print(clean_imdbgood.mean())\n",
    "print(clean_imdbbad.mean())\n",
    "\n",
    "print(\"t-statistics is {}.\".format(t_stat))\n",
    "print(\"p-value is {}.\".format(p))"
   ]
  },
  {
   "cell_type": "code",
   "execution_count": 7,
   "metadata": {},
   "outputs": [
    {
     "data": {
      "image/png": "[encoded data removed]",
      "text/plain": [
       "<Figure size 720x576 with 1 Axes>"
      ]
     },
     "metadata": {
      "needs_background": "light"
     },
     "output_type": "display_data"
    },
    {
     "data": {
      "image/png": "[encoded data removed]",
      "text/plain": [
       "<Figure size 432x288 with 1 Axes>"
      ]
     },
     "metadata": {
      "needs_background": "light"
     },
     "output_type": "display_data"
    }
   ],
   "source": [
    "# Plot sample means with error bars\n",
    "# fig, ax = plt.subplots(figsize=(10, 8))\n",
    "tick_labels = [\"Good Movies\", \"Not Good Movies\"]\n",
    "\n",
    "means = [clean_imdbgood.mean(), clean_imdbbad.mean()]\n",
    "x_axis = np.arange(0, len(means))\n",
    "\n",
    "sem = [clean_imdbgood.sem(), clean_imdbbad.sem()]\n",
    "\n",
    "# Plot mean height of players\n",
    "fig, ax = plt.subplots()\n",
    "\n",
    "fig.suptitle(\"IMDB Ratings vs Box Office\",\n",
    "             fontsize=15, fontweight=\"bold\")\n",
    "\n",
    "ax.errorbar(x_axis, means, yerr=sem, fmt=\"o\")\n",
    "\n",
    "ax.set_xlim(-0.5, 1.5)\n",
    "ax.set_ylim(0, 100000000)\n",
    "\n",
    "ax.set_xticklabels(tick_labels)\n",
    "ax.set_xticks([0, 1])\n",
    "\n",
    "ax.set_ylabel(\"Box Office - out of Billion\")\n",
    "# plt.tight_layout()\n",
    "plt.show()"
   ]
  },
  {
   "cell_type": "code",
   "execution_count": 8,
   "metadata": {},
   "outputs": [
    {
     "data": {
      "image/png": "[encoded data removed]",
      "text/plain": [
       "<Figure size 720x576 with 1 Axes>"
      ]
     },
     "metadata": {
      "needs_background": "light"
     },
     "output_type": "display_data"
    }
   ],
   "source": [
    "fig, ax = plt.subplots(figsize=(10, 8))\n",
    "\n",
    "plt.tight_layout()\n",
    "\n",
    "boxoffice_mean = [66216786, 39271056]\n",
    "x_axis = np.arange(len(boxoffice_mean))\n",
    "sem = [clean_imdbgood.sem(), clean_imdbbad.sem()]\n",
    "ax.errorbar(x_axis, means, yerr=sem, fmt=\"o\")\n",
    "\n",
    "plt.bar(x_axis, boxoffice_mean, color='g', alpha=0.8, align=\"center\")\n",
    "# \n",
    "# Tell matplotlib where we would like to place each of our x axis headers\n",
    "tick_locations = [value for value in x_axis]\n",
    "plt.xticks(tick_locations, [\"Good Movies\", \"Not Good Movies\"], size=15, weight=\"bold\")\n",
    "\n",
    "# Sets the x limits of the current chart\n",
    "plt.xlim(-0.75, len(x_axis)-0.25)\n",
    "\n",
    "# Sets the y limits of the current chart\n",
    "plt.ylim(0, max(boxoffice_mean)+10000000)\n",
    "\n",
    "# Give our chart some labels and a tile\n",
    "plt.title(\"IMDB Rating vs Box Office\",size=15, weight=\"bold\")\n",
    "plt.ylabel(\"Box Office in Ten Millions\", size=15, weight=\"bold\")\n",
    "\n",
    "plt.tick_params(axis='both', which='major', labelsize=15)\n",
    "\n"
   ]
  },
  {
   "cell_type": "code",
   "execution_count": null,
   "metadata": {},
   "outputs": [],
   "source": []
  }
 ],
 "metadata": {
  "kernelspec": {
   "display_name": "Python 3",
   "language": "python",
   "name": "python3"
  },
  "language_info": {
   "codemirror_mode": {
    "name": "ipython",
    "version": 3
   },
   "file_extension": ".py",
   "mimetype": "text/x-python",
   "name": "python",
   "nbconvert_exporter": "python",
   "pygments_lexer": "ipython3",
   "version": "3.7.3"
  }
 },
 "nbformat": 4,
 "nbformat_minor": 2
}
